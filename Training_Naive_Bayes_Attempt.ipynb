{
 "cells": [
  {
   "cell_type": "code",
   "execution_count": 421,
   "metadata": {},
   "outputs": [],
   "source": [
    "import nltk\n",
    "from nltk.tokenize import word_tokenize\n",
    "from nltk.corpus import stopwords\n",
    "from nltk.stem import WordNetLemmatizer\n",
    "from wordcloud import WordCloud\n",
    "from sklearn.feature_extraction.text import CountVectorizer\n",
    "\n",
    "\n",
    "# nltk.download('stopwords')\n",
    "# nltk.download('wordnet')\n",
    "\n",
    "# Multinomial Naive Bayes Classifier\n",
    "from sklearn.naive_bayes import MultinomialNB\n",
    "\n",
    "# Import Tf-idf Vectorizer\n",
    "from sklearn.feature_extraction.text import TfidfVectorizer\n",
    "\n",
    "# Enable Jupyter Notebook's intellisense\n",
    "%config IPCompleter.greedy=True\n",
    "\n",
    "# Import the Label Encoder\n",
    "from sklearn.preprocessing import LabelEncoder\n",
    "\n",
    "# Import the train test split\n",
    "from sklearn.model_selection import train_test_split"
   ]
  },
  {
   "cell_type": "code",
   "execution_count": 422,
   "metadata": {},
   "outputs": [
    {
     "name": "stdout",
     "output_type": "stream",
     "text": [
      "     Smoking Status                                               Text\n",
      "223         UNKNOWN  report status: unsigned\\r\\ned discharge notifi...\n",
      "6    CURRENT SMOKER  report status: signed\\r\\ndischarge summary nam...\n",
      "215         UNKNOWN  report status: unsigned admission date: 02/22/...\n",
      "303     PAST SMOKER  admission date: 09/20/2000 report status: sign...\n",
      "335         UNKNOWN  admission date: 11/16/2005 report status:  dis...\n",
      "137         UNKNOWN  report status: unsigned\\r\\ndischarge summary n...\n"
     ]
    }
   ],
   "source": [
    "import pandas as pd\n",
    "\n",
    "data = pd.read_csv(\n",
    "    r\"C:\\Users\\Simrun Sharma\\Desktop\\NLP\\NLP_final\\01_intermediate-files\\smokers_train_all_separated.csv\"\n",
    ")\n",
    "print(data.sample(6))"
   ]
  },
  {
   "cell_type": "code",
   "execution_count": 423,
   "metadata": {},
   "outputs": [],
   "source": [
    "data[\"Smoking Status’\"] = data[\"Smoking Status\"].replace(\"SMOKER\", \"PAST SMOKER\")"
   ]
  },
  {
   "cell_type": "code",
   "execution_count": 424,
   "metadata": {},
   "outputs": [
    {
     "data": {
      "text/html": [
       "<div>\n",
       "<style scoped>\n",
       "    .dataframe tbody tr th:only-of-type {\n",
       "        vertical-align: middle;\n",
       "    }\n",
       "\n",
       "    .dataframe tbody tr th {\n",
       "        vertical-align: top;\n",
       "    }\n",
       "\n",
       "    .dataframe thead th {\n",
       "        text-align: right;\n",
       "    }\n",
       "</style>\n",
       "<table border=\"1\" class=\"dataframe\">\n",
       "  <thead>\n",
       "    <tr style=\"text-align: right;\">\n",
       "      <th></th>\n",
       "      <th>Smoking Status</th>\n",
       "      <th>Text</th>\n",
       "      <th>Smoking Status’</th>\n",
       "      <th>Smoking_enc</th>\n",
       "    </tr>\n",
       "  </thead>\n",
       "  <tbody>\n",
       "    <tr>\n",
       "      <th>345</th>\n",
       "      <td>UNKNOWN</td>\n",
       "      <td>admission date: 03/25/2003 report status: sign...</td>\n",
       "      <td>UNKNOWN</td>\n",
       "      <td>4</td>\n",
       "    </tr>\n",
       "    <tr>\n",
       "      <th>280</th>\n",
       "      <td>NON-SMOKER</td>\n",
       "      <td>admission date: 10/14/2004 report status: sign...</td>\n",
       "      <td>NON-SMOKER</td>\n",
       "      <td>1</td>\n",
       "    </tr>\n",
       "    <tr>\n",
       "      <th>272</th>\n",
       "      <td>CURRENT SMOKER</td>\n",
       "      <td>admission date: 07/08/1995 report status: sign...</td>\n",
       "      <td>CURRENT SMOKER</td>\n",
       "      <td>0</td>\n",
       "    </tr>\n",
       "    <tr>\n",
       "      <th>38</th>\n",
       "      <td>NON-SMOKER</td>\n",
       "      <td>admission date: 09/16/2004 report status: sign...</td>\n",
       "      <td>NON-SMOKER</td>\n",
       "      <td>1</td>\n",
       "    </tr>\n",
       "    <tr>\n",
       "      <th>66</th>\n",
       "      <td>PAST SMOKER</td>\n",
       "      <td>admission date: 03/30/1993 report status: sign...</td>\n",
       "      <td>PAST SMOKER</td>\n",
       "      <td>2</td>\n",
       "    </tr>\n",
       "    <tr>\n",
       "      <th>335</th>\n",
       "      <td>UNKNOWN</td>\n",
       "      <td>admission date: 11/16/2005 report status:  dis...</td>\n",
       "      <td>UNKNOWN</td>\n",
       "      <td>4</td>\n",
       "    </tr>\n",
       "  </tbody>\n",
       "</table>\n",
       "</div>"
      ],
      "text/plain": [
       "     Smoking Status                                               Text  \\\n",
       "345         UNKNOWN  admission date: 03/25/2003 report status: sign...   \n",
       "280      NON-SMOKER  admission date: 10/14/2004 report status: sign...   \n",
       "272  CURRENT SMOKER  admission date: 07/08/1995 report status: sign...   \n",
       "38       NON-SMOKER  admission date: 09/16/2004 report status: sign...   \n",
       "66      PAST SMOKER  admission date: 03/30/1993 report status: sign...   \n",
       "335         UNKNOWN  admission date: 11/16/2005 report status:  dis...   \n",
       "\n",
       "    Smoking Status’  Smoking_enc  \n",
       "345         UNKNOWN            4  \n",
       "280      NON-SMOKER            1  \n",
       "272  CURRENT SMOKER            0  \n",
       "38       NON-SMOKER            1  \n",
       "66      PAST SMOKER            2  \n",
       "335         UNKNOWN            4  "
      ]
     },
     "metadata": {},
     "output_type": "display_data"
    }
   ],
   "source": [
    "le = LabelEncoder()\n",
    "data[\"Smoking_enc\"] = le.fit_transform(data[\"Smoking Status\"])\n",
    "display(data.sample(6))"
   ]
  },
  {
   "cell_type": "code",
   "execution_count": 425,
   "metadata": {},
   "outputs": [
    {
     "name": "stdout",
     "output_type": "stream",
     "text": [
      "Smoking Status     object\n",
      "Text               object\n",
      "Smoking Status’    object\n",
      "Smoking_enc         int64\n",
      "dtype: object\n"
     ]
    }
   ],
   "source": [
    "data[\"Smoking_enc\"] = data[\"Smoking_enc\"].astype(\"int64\")\n",
    "print(data.dtypes)"
   ]
  },
  {
   "cell_type": "code",
   "execution_count": 426,
   "metadata": {},
   "outputs": [
    {
     "name": "stdout",
     "output_type": "stream",
     "text": [
      "UNKNOWN           252\n",
      "NON-SMOKER         66\n",
      "PAST SMOKER        36\n",
      "CURRENT SMOKER     35\n",
      "SMOKER              9\n",
      "Name: Smoking Status, dtype: int64\n"
     ]
    }
   ],
   "source": [
    "print(data[\"Smoking Status\"].value_counts())"
   ]
  },
  {
   "cell_type": "code",
   "execution_count": 427,
   "metadata": {},
   "outputs": [
    {
     "name": "stdout",
     "output_type": "stream",
     "text": [
      "0      to excess , pipe and cigar smoker for many yea...\n",
      "1       the patient has a 20 pack-year smoking history .\n",
      "2      has been smoking approximately 10 cigarettes a...\n",
      "3      and vomiting . social history: smoker for grea...\n",
      "4                   1-2 packs per day . hospital course:\n",
      "                             ...                        \n",
      "393                                       no information\n",
      "394                                       no information\n",
      "395          a / p repair vag pack / foley , ebl minimal\n",
      "396                                       no information\n",
      "397                                       no information\n",
      "Name: Text, Length: 398, dtype: object\n"
     ]
    }
   ],
   "source": [
    "import re\n",
    "\n",
    "clean_messages = data[\"Text\"].str.lower()\n",
    "clean_text = []\n",
    "for message in clean_messages:\n",
    "    pattern = r\"(\\S+\\s){0,5}\\S*(smok|tobacco|cigar|pack|ppd)\\S*(\\s\\S+){0,5}\"\n",
    "    match = re.search(pattern, message, re.IGNORECASE)\n",
    "\n",
    "    if match:\n",
    "        matched_text = match.group(0)\n",
    "        clean_text.append(matched_text)\n",
    "    else:\n",
    "        sentence = \"no information\"\n",
    "        clean_text.append(sentence)\n",
    "\n",
    "data[\"Text\"] = clean_text\n",
    "print(data[\"Text\"])"
   ]
  },
  {
   "cell_type": "code",
   "execution_count": 428,
   "metadata": {},
   "outputs": [
    {
     "name": "stdout",
     "output_type": "stream",
     "text": [
      "230\n"
     ]
    }
   ],
   "source": [
    "no_info_messages = data[\"Text\"].str.contains(\"no information\").sum()\n",
    "print(no_info_messages)"
   ]
  },
  {
   "cell_type": "code",
   "execution_count": 429,
   "metadata": {},
   "outputs": [
    {
     "data": {
      "text/html": [
       "<div>\n",
       "<style scoped>\n",
       "    .dataframe tbody tr th:only-of-type {\n",
       "        vertical-align: middle;\n",
       "    }\n",
       "\n",
       "    .dataframe tbody tr th {\n",
       "        vertical-align: top;\n",
       "    }\n",
       "\n",
       "    .dataframe thead th {\n",
       "        text-align: right;\n",
       "    }\n",
       "</style>\n",
       "<table border=\"1\" class=\"dataframe\">\n",
       "  <thead>\n",
       "    <tr style=\"text-align: right;\">\n",
       "      <th></th>\n",
       "      <th>alcohol</th>\n",
       "      <th>history</th>\n",
       "      <th>information</th>\n",
       "      <th>smoking</th>\n",
       "      <th>tobacco</th>\n",
       "      <th>use</th>\n",
       "      <th>Smoking_enc</th>\n",
       "    </tr>\n",
       "    <tr>\n",
       "      <th>Smoking Status</th>\n",
       "      <th></th>\n",
       "      <th></th>\n",
       "      <th></th>\n",
       "      <th></th>\n",
       "      <th></th>\n",
       "      <th></th>\n",
       "      <th></th>\n",
       "    </tr>\n",
       "  </thead>\n",
       "  <tbody>\n",
       "    <tr>\n",
       "      <th>CURRENT SMOKER</th>\n",
       "      <td>0</td>\n",
       "      <td>0</td>\n",
       "      <td>0</td>\n",
       "      <td>0</td>\n",
       "      <td>0</td>\n",
       "      <td>0</td>\n",
       "      <td>0</td>\n",
       "    </tr>\n",
       "    <tr>\n",
       "      <th>CURRENT SMOKER</th>\n",
       "      <td>0</td>\n",
       "      <td>1</td>\n",
       "      <td>0</td>\n",
       "      <td>1</td>\n",
       "      <td>0</td>\n",
       "      <td>0</td>\n",
       "      <td>0</td>\n",
       "    </tr>\n",
       "    <tr>\n",
       "      <th>CURRENT SMOKER</th>\n",
       "      <td>0</td>\n",
       "      <td>0</td>\n",
       "      <td>0</td>\n",
       "      <td>1</td>\n",
       "      <td>0</td>\n",
       "      <td>0</td>\n",
       "      <td>0</td>\n",
       "    </tr>\n",
       "    <tr>\n",
       "      <th>CURRENT SMOKER</th>\n",
       "      <td>0</td>\n",
       "      <td>1</td>\n",
       "      <td>0</td>\n",
       "      <td>0</td>\n",
       "      <td>0</td>\n",
       "      <td>0</td>\n",
       "      <td>0</td>\n",
       "    </tr>\n",
       "    <tr>\n",
       "      <th>CURRENT SMOKER</th>\n",
       "      <td>0</td>\n",
       "      <td>0</td>\n",
       "      <td>0</td>\n",
       "      <td>0</td>\n",
       "      <td>0</td>\n",
       "      <td>0</td>\n",
       "      <td>0</td>\n",
       "    </tr>\n",
       "    <tr>\n",
       "      <th>...</th>\n",
       "      <td>...</td>\n",
       "      <td>...</td>\n",
       "      <td>...</td>\n",
       "      <td>...</td>\n",
       "      <td>...</td>\n",
       "      <td>...</td>\n",
       "      <td>...</td>\n",
       "    </tr>\n",
       "    <tr>\n",
       "      <th>UNKNOWN</th>\n",
       "      <td>0</td>\n",
       "      <td>0</td>\n",
       "      <td>1</td>\n",
       "      <td>0</td>\n",
       "      <td>0</td>\n",
       "      <td>0</td>\n",
       "      <td>4</td>\n",
       "    </tr>\n",
       "    <tr>\n",
       "      <th>UNKNOWN</th>\n",
       "      <td>0</td>\n",
       "      <td>0</td>\n",
       "      <td>1</td>\n",
       "      <td>0</td>\n",
       "      <td>0</td>\n",
       "      <td>0</td>\n",
       "      <td>4</td>\n",
       "    </tr>\n",
       "    <tr>\n",
       "      <th>UNKNOWN</th>\n",
       "      <td>0</td>\n",
       "      <td>0</td>\n",
       "      <td>0</td>\n",
       "      <td>0</td>\n",
       "      <td>0</td>\n",
       "      <td>0</td>\n",
       "      <td>4</td>\n",
       "    </tr>\n",
       "    <tr>\n",
       "      <th>UNKNOWN</th>\n",
       "      <td>0</td>\n",
       "      <td>0</td>\n",
       "      <td>1</td>\n",
       "      <td>0</td>\n",
       "      <td>0</td>\n",
       "      <td>0</td>\n",
       "      <td>4</td>\n",
       "    </tr>\n",
       "    <tr>\n",
       "      <th>UNKNOWN</th>\n",
       "      <td>0</td>\n",
       "      <td>0</td>\n",
       "      <td>1</td>\n",
       "      <td>0</td>\n",
       "      <td>0</td>\n",
       "      <td>0</td>\n",
       "      <td>4</td>\n",
       "    </tr>\n",
       "  </tbody>\n",
       "</table>\n",
       "<p>398 rows × 7 columns</p>\n",
       "</div>"
      ],
      "text/plain": [
       "                alcohol  history  information  smoking  tobacco  use  \\\n",
       "Smoking Status                                                         \n",
       "CURRENT SMOKER        0        0            0        0        0    0   \n",
       "CURRENT SMOKER        0        1            0        1        0    0   \n",
       "CURRENT SMOKER        0        0            0        1        0    0   \n",
       "CURRENT SMOKER        0        1            0        0        0    0   \n",
       "CURRENT SMOKER        0        0            0        0        0    0   \n",
       "...                 ...      ...          ...      ...      ...  ...   \n",
       "UNKNOWN               0        0            1        0        0    0   \n",
       "UNKNOWN               0        0            1        0        0    0   \n",
       "UNKNOWN               0        0            0        0        0    0   \n",
       "UNKNOWN               0        0            1        0        0    0   \n",
       "UNKNOWN               0        0            1        0        0    0   \n",
       "\n",
       "                Smoking_enc  \n",
       "Smoking Status               \n",
       "CURRENT SMOKER            0  \n",
       "CURRENT SMOKER            0  \n",
       "CURRENT SMOKER            0  \n",
       "CURRENT SMOKER            0  \n",
       "CURRENT SMOKER            0  \n",
       "...                     ...  \n",
       "UNKNOWN                   4  \n",
       "UNKNOWN                   4  \n",
       "UNKNOWN                   4  \n",
       "UNKNOWN                   4  \n",
       "UNKNOWN                   4  \n",
       "\n",
       "[398 rows x 7 columns]"
      ]
     },
     "execution_count": 429,
     "metadata": {},
     "output_type": "execute_result"
    }
   ],
   "source": [
    "from sklearn.feature_extraction.text import CountVectorizer\n",
    "\n",
    "smoking_status = data[\"Smoking Status\"]\n",
    "smoking_enc = data[\"Smoking_enc\"]\n",
    "# Transform the data with the count vectorizer\n",
    "count_vect = CountVectorizer(max_features=6, stop_words=\"english\")\n",
    "\n",
    "data = count_vect.fit_transform(\n",
    "    data[\"Text\"]\n",
    ").toarray()  # Returns a sparse matric which we convert to an array\n",
    "\n",
    "# Put together a df with the results\n",
    "train_bow_df = pd.DataFrame(\n",
    "    data, columns=count_vect.get_feature_names_out(), index=smoking_status\n",
    ")\n",
    "train_bow_df[\n",
    "    \"Smoking_enc\"\n",
    "] = smoking_enc.tolist()  # tolist() needed since indices are different\n",
    "train_bow_df\n",
    "\n",
    "# # Apply the remove_most_recurring_words function to each element in the \"text\" column\n",
    "# data[\"Text\"] = data[\"Text\"].apply(remove_most_recurring_words)\n",
    "# print(data[\"Text\"])"
   ]
  },
  {
   "cell_type": "code",
   "execution_count": 430,
   "metadata": {},
   "outputs": [],
   "source": [
    "# tokenized_messages = data[\"Text\"].str.lower().apply(word_tokenize)\n",
    "# print(tokenized_messages)"
   ]
  },
  {
   "cell_type": "code",
   "execution_count": 431,
   "metadata": {},
   "outputs": [],
   "source": [
    "# data[\"Text\"] = tokenized_messages\n",
    "# data.sample(6)"
   ]
  },
  {
   "cell_type": "code",
   "execution_count": 432,
   "metadata": {},
   "outputs": [
    {
     "name": "stdout",
     "output_type": "stream",
     "text": [
      "                alcohol  history  information  smoking  tobacco  use\n",
      "Smoking Status                                                      \n",
      "CURRENT SMOKER        0        0            0        0        0    0\n",
      "CURRENT SMOKER        0        1            0        1        0    0\n",
      "CURRENT SMOKER        0        0            0        1        0    0\n",
      "CURRENT SMOKER        0        1            0        0        0    0\n",
      "CURRENT SMOKER        0        0            0        0        0    0\n",
      "...                 ...      ...          ...      ...      ...  ...\n",
      "UNKNOWN               0        0            1        0        0    0\n",
      "UNKNOWN               0        0            1        0        0    0\n",
      "UNKNOWN               0        0            0        0        0    0\n",
      "UNKNOWN               0        0            1        0        0    0\n",
      "UNKNOWN               0        0            1        0        0    0\n",
      "\n",
      "[398 rows x 6 columns]\n"
     ]
    }
   ],
   "source": [
    "X_train = train_bow_df.drop(columns=\"Smoking_enc\")\n",
    "y_train = train_bow_df[\"Smoking_enc\"]\n",
    "\n",
    "print(X_train)\n",
    "\n",
    "# X_train = data[\"Text\"]\n",
    "# y_train = data[\"Smoking_enc\"]"
   ]
  },
  {
   "cell_type": "code",
   "execution_count": 433,
   "metadata": {},
   "outputs": [
    {
     "name": "stdout",
     "output_type": "stream",
     "text": [
      "(398, 6)\n",
      "(398,)\n"
     ]
    }
   ],
   "source": [
    "print(X_train.shape)\n",
    "print(y_train.shape)"
   ]
  },
  {
   "cell_type": "code",
   "execution_count": 434,
   "metadata": {},
   "outputs": [],
   "source": [
    "X_train, X_test, y_train, y_test = train_test_split(\n",
    "    X_train, y_train, test_size=0.2, random_state=34, stratify=y_train\n",
    ")\n",
    "\n",
    "# X_train = X_train.astype(str)\n",
    "# X = X.astype(str)\n",
    "# X_test = X_test.astype(str)"
   ]
  },
  {
   "cell_type": "code",
   "execution_count": 435,
   "metadata": {},
   "outputs": [],
   "source": [
    "# # Create the tf-idf vectorizer\n",
    "# vectorizer = TfidfVectorizer(strip_accents=\"ascii\")\n",
    "\n",
    "\n",
    "# # First fit the vectorizer with our training set\n",
    "# tfidf_train = vectorizer.fit_transform(X_train)\n",
    "# print(tfidf_train)\n",
    "# print(tfidf_train.shape)\n",
    "# print(vectorizer.get_feature_names_out())\n",
    "\n",
    "# Now we can fit our test data with the same vectorizer\n",
    "# tfidf_test = vectorizer.transform(X_test)"
   ]
  },
  {
   "cell_type": "code",
   "execution_count": 436,
   "metadata": {},
   "outputs": [
    {
     "name": "stdout",
     "output_type": "stream",
     "text": [
      "   fit_time  score_time  test_score  train_score\n",
      "0  0.005830    0.002241    0.781250     0.787402\n",
      "1  0.006034    0.002998    0.781250     0.795276\n",
      "2  0.005015    0.004255    0.765625     0.795276\n",
      "3  0.005506    0.002517    0.793651     0.784314\n",
      "4  0.005716    0.003541    0.793651     0.788235\n",
      "Accuracy: 0.775\n"
     ]
    }
   ],
   "source": [
    "from sklearn.pipeline import make_pipeline\n",
    "from sklearn.model_selection import cross_validate\n",
    "\n",
    "alpha = 0.5\n",
    "nb = MultinomialNB(alpha=alpha)\n",
    "scores = cross_validate(nb, X_train, y_train, return_train_score=True)\n",
    "scores = pd.DataFrame(scores)\n",
    "print(scores.head())\n",
    "# alpha = 0.001  # You can adjust the value of alpha\n",
    "\n",
    "# # Initialize the Multinomial Naive Bayes classifier\n",
    "# nb = MultinomialNB(alpha=alpha)\n",
    "\n",
    "# # Fit the model\n",
    "nb.fit(X_train, y_train)\n",
    "\n",
    "# # Print the accuracy score\n",
    "print(\"Accuracy:\", nb.score(X_test, y_test))"
   ]
  }
 ],
 "metadata": {
  "kernelspec": {
   "display_name": "base",
   "language": "python",
   "name": "python3"
  },
  "language_info": {
   "codemirror_mode": {
    "name": "ipython",
    "version": 3
   },
   "file_extension": ".py",
   "mimetype": "text/x-python",
   "name": "python",
   "nbconvert_exporter": "python",
   "pygments_lexer": "ipython3",
   "version": "3.11.5"
  }
 },
 "nbformat": 4,
 "nbformat_minor": 2
}
