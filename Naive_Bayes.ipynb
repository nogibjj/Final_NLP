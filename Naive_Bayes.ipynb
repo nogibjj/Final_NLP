{
 "cells": [
  {
   "cell_type": "code",
   "execution_count": 162,
   "metadata": {},
   "outputs": [],
   "source": [
    "import nltk\n",
    "from nltk.tokenize import word_tokenize\n",
    "from nltk.corpus import stopwords\n",
    "from nltk.stem import WordNetLemmatizer\n",
    "from wordcloud import WordCloud\n",
    "\n",
    "# nltk.download('stopwords')\n",
    "# nltk.download('wordnet')\n",
    "\n",
    "# Multinomial Naive Bayes Classifier\n",
    "from sklearn.naive_bayes import MultinomialNB\n",
    "\n",
    "# Import Tf-idf Vectorizer\n",
    "from sklearn.feature_extraction.text import TfidfVectorizer\n",
    "\n",
    "# Enable Jupyter Notebook's intellisense\n",
    "%config IPCompleter.greedy=True\n",
    "\n",
    "# Import the Label Encoder\n",
    "from sklearn.preprocessing import LabelEncoder\n",
    "\n",
    "# Import the train test split\n",
    "from sklearn.model_selection import train_test_split"
   ]
  },
  {
   "cell_type": "code",
   "execution_count": 163,
   "metadata": {},
   "outputs": [
    {
     "name": "stdout",
     "output_type": "stream",
     "text": [
      "    Record ID  Smoking Status  \\\n",
      "1         643  CURRENT SMOKER   \n",
      "8         412      NON-SMOKER   \n",
      "12        416         UNKNOWN   \n",
      "13        417         UNKNOWN   \n",
      "5         590         UNKNOWN   \n",
      "7         542      NON-SMOKER   \n",
      "\n",
      "                                                 Text  \n",
      "1   026738007\\nCMC\\n15319689\\n3/25/1998 12:00:00 A...  \n",
      "8   194442600 RWH\\n1642008\\n83328/rh01\\n61509\\n10/...  \n",
      "12  517502848 ELMVH\\n18587541\\n6634152\\n12/12/2004...  \n",
      "13  895872725 ELMVH\\n99080881\\n979718\\n5/25/2002 1...  \n",
      "5   463067067\\nFIH\\n7339944\\n31403/p8v6\\n363828\\n1...  \n",
      "7   407060601\\nFIH\\n9835577\\n74261/1069\\n663014\\n0...  \n"
     ]
    }
   ],
   "source": [
    "import pandas as pd\n",
    "\n",
    "data = pd.read_csv(r\"C:\\Users\\Simrun Sharma\\Desktop\\NLP\\parsed_rows_head.csv\")\n",
    "print(data.sample(6))"
   ]
  },
  {
   "cell_type": "code",
   "execution_count": 164,
   "metadata": {},
   "outputs": [
    {
     "name": "stdout",
     "output_type": "stream",
     "text": [
      "<class 'pandas.core.frame.DataFrame'>\n",
      "RangeIndex: 16 entries, 0 to 15\n",
      "Data columns (total 3 columns):\n",
      " #   Column          Non-Null Count  Dtype \n",
      "---  ------          --------------  ----- \n",
      " 0   Record ID       16 non-null     int64 \n",
      " 1   Smoking Status  16 non-null     object\n",
      " 2   Text            16 non-null     object\n",
      "dtypes: int64(1), object(2)\n",
      "memory usage: 516.0+ bytes\n"
     ]
    }
   ],
   "source": [
    "data.info()"
   ]
  },
  {
   "cell_type": "code",
   "execution_count": 165,
   "metadata": {},
   "outputs": [
    {
     "name": "stdout",
     "output_type": "stream",
     "text": [
      "UNKNOWN           7\n",
      "CURRENT SMOKER    5\n",
      "NON-SMOKER        2\n",
      "PAST SMOKER       2\n",
      "Name: Smoking Status, dtype: int64\n"
     ]
    }
   ],
   "source": [
    "print(data[\"Smoking Status\"].value_counts())"
   ]
  },
  {
   "cell_type": "code",
   "execution_count": 166,
   "metadata": {},
   "outputs": [
    {
     "data": {
      "text/html": [
       "<div>\n",
       "<style scoped>\n",
       "    .dataframe tbody tr th:only-of-type {\n",
       "        vertical-align: middle;\n",
       "    }\n",
       "\n",
       "    .dataframe tbody tr th {\n",
       "        vertical-align: top;\n",
       "    }\n",
       "\n",
       "    .dataframe thead th {\n",
       "        text-align: right;\n",
       "    }\n",
       "</style>\n",
       "<table border=\"1\" class=\"dataframe\">\n",
       "  <thead>\n",
       "    <tr style=\"text-align: right;\">\n",
       "      <th></th>\n",
       "      <th>Record ID</th>\n",
       "      <th>Smoking Status</th>\n",
       "      <th>Text</th>\n",
       "      <th>Smoking_enc</th>\n",
       "    </tr>\n",
       "  </thead>\n",
       "  <tbody>\n",
       "    <tr>\n",
       "      <th>0</th>\n",
       "      <td>641</td>\n",
       "      <td>CURRENT SMOKER</td>\n",
       "      <td>977146916\\nHLGMC\\n2878891\\n022690\\n01/27/1997 ...</td>\n",
       "      <td>0</td>\n",
       "    </tr>\n",
       "    <tr>\n",
       "      <th>9</th>\n",
       "      <td>623</td>\n",
       "      <td>PAST SMOKER</td>\n",
       "      <td>512875472\\nPRGH\\n47241971\\n271075\\n4/26/1999 1...</td>\n",
       "      <td>2</td>\n",
       "    </tr>\n",
       "    <tr>\n",
       "      <th>15</th>\n",
       "      <td>736</td>\n",
       "      <td>PAST SMOKER</td>\n",
       "      <td>337483886\\nCTMC\\n59100048\\n219781\\n03/30/1993 ...</td>\n",
       "      <td>2</td>\n",
       "    </tr>\n",
       "    <tr>\n",
       "      <th>3</th>\n",
       "      <td>704</td>\n",
       "      <td>CURRENT SMOKER</td>\n",
       "      <td>418520250\\nNVH\\n61562872\\n3/11/1995 12:00:00 A...</td>\n",
       "      <td>0</td>\n",
       "    </tr>\n",
       "    <tr>\n",
       "      <th>13</th>\n",
       "      <td>417</td>\n",
       "      <td>UNKNOWN</td>\n",
       "      <td>895872725 ELMVH\\n99080881\\n979718\\n5/25/2002 1...</td>\n",
       "      <td>3</td>\n",
       "    </tr>\n",
       "    <tr>\n",
       "      <th>6</th>\n",
       "      <td>735</td>\n",
       "      <td>UNKNOWN</td>\n",
       "      <td>538617688\\nPUOMC\\n7271129\\n234750\\n118602\\n4/2...</td>\n",
       "      <td>3</td>\n",
       "    </tr>\n",
       "  </tbody>\n",
       "</table>\n",
       "</div>"
      ],
      "text/plain": [
       "    Record ID  Smoking Status  \\\n",
       "0         641  CURRENT SMOKER   \n",
       "9         623     PAST SMOKER   \n",
       "15        736     PAST SMOKER   \n",
       "3         704  CURRENT SMOKER   \n",
       "13        417         UNKNOWN   \n",
       "6         735         UNKNOWN   \n",
       "\n",
       "                                                 Text  Smoking_enc  \n",
       "0   977146916\\nHLGMC\\n2878891\\n022690\\n01/27/1997 ...            0  \n",
       "9   512875472\\nPRGH\\n47241971\\n271075\\n4/26/1999 1...            2  \n",
       "15  337483886\\nCTMC\\n59100048\\n219781\\n03/30/1993 ...            2  \n",
       "3   418520250\\nNVH\\n61562872\\n3/11/1995 12:00:00 A...            0  \n",
       "13  895872725 ELMVH\\n99080881\\n979718\\n5/25/2002 1...            3  \n",
       "6   538617688\\nPUOMC\\n7271129\\n234750\\n118602\\n4/2...            3  "
      ]
     },
     "metadata": {},
     "output_type": "display_data"
    }
   ],
   "source": [
    "le = LabelEncoder()\n",
    "data[\"Smoking_enc\"] = le.fit_transform(data[\"Smoking Status\"])\n",
    "display(data.sample(6))"
   ]
  },
  {
   "cell_type": "code",
   "execution_count": 167,
   "metadata": {},
   "outputs": [
    {
     "name": "stdout",
     "output_type": "stream",
     "text": [
      "Record ID          int64\n",
      "Smoking Status    object\n",
      "Text              object\n",
      "Smoking_enc        int64\n",
      "dtype: object\n"
     ]
    }
   ],
   "source": [
    "# Python\n",
    "data[\"Smoking_enc\"] = data[\"Smoking_enc\"].astype(\"int64\")\n",
    "print(data.dtypes)"
   ]
  },
  {
   "cell_type": "code",
   "execution_count": 168,
   "metadata": {},
   "outputs": [
    {
     "name": "stdout",
     "output_type": "stream",
     "text": [
      "Smoking Status\n",
      "CURRENT SMOKER    1016.200000\n",
      "NON-SMOKER        1133.000000\n",
      "PAST SMOKER       1326.000000\n",
      "UNKNOWN            488.714286\n",
      "Name: word_count, dtype: float64\n"
     ]
    }
   ],
   "source": [
    "data[\"word_count\"] = data[\"Text\"].str.split().str.len()\n",
    "print(data.groupby(\"Smoking Status\")[\"word_count\"].mean())"
   ]
  },
  {
   "cell_type": "code",
   "execution_count": 169,
   "metadata": {},
   "outputs": [
    {
     "name": "stdout",
     "output_type": "stream",
     "text": [
      "0     977146916\\nHLGMC\\n2878891\\n022690\\n01/27/1997 ...\n",
      "1     026738007\\nCMC\\n15319689\\n3/25/1998 12:00:00 A...\n",
      "2     071962960\\nBH\\n4236518\\n417454\\n12/10/2001 12:...\n",
      "3     418520250\\nNVH\\n61562872\\n3/11/1995 12:00:00 A...\n",
      "4     301443520\\nCTMC\\n49020928\\n448922\\n1/11/1990 1...\n",
      "5     463067067\\nFIH\\n7339944\\n31403/p8v6\\n363828\\n1...\n",
      "6     538617688\\nPUOMC\\n7271129\\n234750\\n118602\\n4/2...\n",
      "7     407060601\\nFIH\\n9835577\\n74261/1069\\n663014\\n0...\n",
      "8     194442600 RWH\\n1642008\\n83328/rh01\\n61509\\n10/...\n",
      "9     512875472\\nPRGH\\n47241971\\n271075\\n4/26/1999 1...\n",
      "10    917989835 RWH\\n5427551\\n405831\\n9660879\\n01/09...\n",
      "11    817406016 RWH\\n3154334\\n554691\\n3547577\\n7/6/2...\n",
      "12    517502848 ELMVH\\n18587541\\n6634152\\n12/12/2004...\n",
      "13    895872725 ELMVH\\n99080881\\n979718\\n5/25/2002 1...\n",
      "14    305757070 ELMVH\\n74973293\\n2973118\\n11/27/2003...\n",
      "15    337483886\\nCTMC\\n59100048\\n219781\\n03/30/1993 ...\n",
      "Name: Text, dtype: object\n"
     ]
    }
   ],
   "source": [
    "print(data[\"Text\"])"
   ]
  },
  {
   "cell_type": "code",
   "execution_count": 170,
   "metadata": {},
   "outputs": [
    {
     "name": "stdout",
     "output_type": "stream",
     "text": [
      "0     social history :\\nlives in merca .\\ndrinks gin...\n",
      "1     next-door .\\nshe reports having no siblings .\\...\n",
      "2     ) .\\npatient denies current use .\\npatient rep...\n",
      "3     cm .\\nallergies :\\nshellfish , which causes na...\n",
      "4     causes hives .\\nsocial history :\\nshe drinks a...\n",
      "5     463067067\\nfih\\n7339944\\n31403/p8v6\\n363828\\n1...\n",
      "6     538617688\\npuomc\\n7271129\\n234750\\n118602\\n4/2...\n",
      "7     .\\nallergies :\\nthere were no known drug aller...\n",
      "8     for further management .\\npast medical history...\n",
      "9     :\\nshe is allergic to quinine sulfate .\\nsocia...\n",
      "10    917989835 rwh\\n5427551\\n405831\\n9660879\\n01/09...\n",
      "11    817406016 rwh\\n3154334\\n554691\\n3547577\\n7/6/2...\n",
      "12    nkda\\npreop hct 36.4 3/16/04 pod 0 s / p a / p...\n",
      "13    895872725 elmvh\\n99080881\\n979718\\n5/25/2002 1...\n",
      "14    305757070 elmvh\\n74973293\\n2973118\\n11/27/2003...\n",
      "15    two blocks .\\nhe has a known tuberculosis and ...\n",
      "Name: Text, dtype: object\n"
     ]
    }
   ],
   "source": [
    "import re\n",
    "\n",
    "clean_messages = data[\"Text\"].str.lower()\n",
    "clean_text = []\n",
    "for message in clean_messages:\n",
    "    pattern = r\"(\\S+\\s){0,15}\\S*(smok|tobacco|cigar|pack|ppd)\\S*(\\s\\S+){0,20}\"\n",
    "    match = re.search(pattern, message, re.IGNORECASE)\n",
    "\n",
    "    if match:\n",
    "        matched_text = match.group(0)\n",
    "        clean_text.append(matched_text)\n",
    "    else:\n",
    "        clean_text.append(message)\n",
    "\n",
    "data[\"Text\"] = clean_text\n",
    "print(data[\"Text\"])"
   ]
  },
  {
   "cell_type": "code",
   "execution_count": 171,
   "metadata": {},
   "outputs": [
    {
     "name": "stdout",
     "output_type": "stream",
     "text": [
      "0     [social, history, :, lives, in, merca, ., drin...\n",
      "1     [next-door, ., she, reports, having, no, sibli...\n",
      "2     [), ., patient, denies, current, use, ., patie...\n",
      "3     [cm, ., allergies, :, shellfish, ,, which, cau...\n",
      "4     [causes, hives, ., social, history, :, she, dr...\n",
      "5     [463067067, fih, 7339944, 31403/p8v6, 363828, ...\n",
      "6     [538617688, puomc, 7271129, 234750, 118602, 4/...\n",
      "7     [., allergies, :, there, were, no, known, drug...\n",
      "8     [for, further, management, ., past, medical, h...\n",
      "9     [:, she, is, allergic, to, quinine, sulfate, ....\n",
      "10    [917989835, rwh, 5427551, 405831, 9660879, 01/...\n",
      "11    [817406016, rwh, 3154334, 554691, 3547577, 7/6...\n",
      "12    [nkda, preop, hct, 36.4, 3/16/04, pod, 0, s, /...\n",
      "13    [895872725, elmvh, 99080881, 979718, 5/25/2002...\n",
      "14    [305757070, elmvh, 74973293, 2973118, 11/27/20...\n",
      "15    [two, blocks, ., he, has, a, known, tuberculos...\n",
      "Name: Text, dtype: object\n"
     ]
    }
   ],
   "source": [
    "tokenized_messages = data[\"Text\"].str.lower().apply(word_tokenize)\n",
    "print(tokenized_messages)"
   ]
  },
  {
   "cell_type": "code",
   "execution_count": 172,
   "metadata": {},
   "outputs": [],
   "source": [
    "# def alpha(tokens):\n",
    "#     \"\"\"This function removes all non-alphanumeric characters\"\"\"\n",
    "#     alpha = []\n",
    "#     for token in tokens:\n",
    "#         if str.isalpha(token):\n",
    "#             alpha.append(token)\n",
    "#     return alpha\n",
    "\n",
    "\n",
    "# # Apply our function to tokens\n",
    "# tokenized_messages = tokenized_messages.apply(alpha)\n",
    "\n",
    "# print(tokenized_messages)"
   ]
  },
  {
   "cell_type": "code",
   "execution_count": 173,
   "metadata": {},
   "outputs": [],
   "source": [
    "# import re\n",
    "# def clean(tokens):\n",
    "#     clean_text = []\n",
    "#     for token in tokens:\n",
    "#         if str.__contains__\n",
    "#         pattern = r\"(\\S+\\s){0,10}\\S*(smok|tobacco|cigar|pack|ppd)\\S*(\\s\\S+){0,10}\"\n",
    "#         match = re.search(pattern, token, re.IGNORECASE)\n",
    "#         # print(match)\n",
    "\n",
    "#         if match:\n",
    "#             # Extract the matched part\n",
    "#             matched_text = match.group(0)\n",
    "#             # print(matched_text)\n",
    "#             clean_text.append(matched_text)\n",
    "#             # print(matched_text)\n",
    "#         # else:\n",
    "#         #     clean_text.append(token)\n",
    "#     # print(clean_text)\n",
    "#     return clean_text\n",
    "\n",
    "# tokenized_messages = tokenized_messages.apply(clean)\n",
    "\n",
    "# print(tokenized_messages)"
   ]
  },
  {
   "cell_type": "code",
   "execution_count": 174,
   "metadata": {},
   "outputs": [],
   "source": [
    "# def remove_stop_words(tokens):\n",
    "#     \"\"\"This function removes all stop words in terms of nltk stopwords\"\"\"\n",
    "#     no_stop = []\n",
    "#     for token in tokens:\n",
    "#         if token not in stopwords.words('english'):\n",
    "#             no_stop.append(token)\n",
    "#     return no_stop\n",
    "\n",
    "# # Apply our function to tokens\n",
    "# tokenized_messages = tokenized_messages.apply(remove_stop_words)\n",
    "\n",
    "# print(tokenized_messages)"
   ]
  },
  {
   "cell_type": "code",
   "execution_count": 175,
   "metadata": {},
   "outputs": [
    {
     "name": "stdout",
     "output_type": "stream",
     "text": [
      "0     [social, history, :, lives, in, merca, ., drin...\n",
      "1     [next-door, ., she, reports, having, no, sibli...\n",
      "2     [), ., patient, denies, current, use, ., patie...\n",
      "3     [cm, ., allergies, :, shellfish, ,, which, cau...\n",
      "4     [causes, hives, ., social, history, :, she, dr...\n",
      "5     [463067067, fih, 7339944, 31403/p8v6, 363828, ...\n",
      "6     [538617688, puomc, 7271129, 234750, 118602, 4/...\n",
      "7     [., allergies, :, there, were, no, known, drug...\n",
      "8     [for, further, management, ., past, medical, h...\n",
      "9     [:, she, is, allergic, to, quinine, sulfate, ....\n",
      "10    [917989835, rwh, 5427551, 405831, 9660879, 01/...\n",
      "11    [817406016, rwh, 3154334, 554691, 3547577, 7/6...\n",
      "12    [nkda, preop, hct, 36.4, 3/16/04, pod, 0, s, /...\n",
      "13    [895872725, elmvh, 99080881, 979718, 5/25/2002...\n",
      "14    [305757070, elmvh, 74973293, 2973118, 11/27/20...\n",
      "15    [two, blocks, ., he, has, a, known, tuberculos...\n",
      "Name: Text, dtype: object\n"
     ]
    }
   ],
   "source": [
    "# def lemmatize(tokens):\n",
    "#     \"\"\"This function lemmatize the messages\"\"\"\n",
    "#     # Initialize the WordNetLemmatizer\n",
    "#     lemmatizer = WordNetLemmatizer()\n",
    "#     # Create the lemmatized list\n",
    "#     lemmatized = []\n",
    "#     for token in tokens:\n",
    "#             # Lemmatize and append\n",
    "#             lemmatized.append(lemmatizer.lemmatize(token))\n",
    "#     return \" \".join(lemmatized)\n",
    "\n",
    "# # Apply our function to tokens\n",
    "# # tokenized_messages = tokenized_messages.apply(lemmatize)\n",
    "\n",
    "# print(tokenized_messages)"
   ]
  },
  {
   "cell_type": "code",
   "execution_count": 176,
   "metadata": {},
   "outputs": [
    {
     "data": {
      "text/html": [
       "<div>\n",
       "<style scoped>\n",
       "    .dataframe tbody tr th:only-of-type {\n",
       "        vertical-align: middle;\n",
       "    }\n",
       "\n",
       "    .dataframe tbody tr th {\n",
       "        vertical-align: top;\n",
       "    }\n",
       "\n",
       "    .dataframe thead th {\n",
       "        text-align: right;\n",
       "    }\n",
       "</style>\n",
       "<table border=\"1\" class=\"dataframe\">\n",
       "  <thead>\n",
       "    <tr style=\"text-align: right;\">\n",
       "      <th></th>\n",
       "      <th>Record ID</th>\n",
       "      <th>Smoking Status</th>\n",
       "      <th>Text</th>\n",
       "      <th>Smoking_enc</th>\n",
       "      <th>word_count</th>\n",
       "    </tr>\n",
       "  </thead>\n",
       "  <tbody>\n",
       "    <tr>\n",
       "      <th>5</th>\n",
       "      <td>590</td>\n",
       "      <td>UNKNOWN</td>\n",
       "      <td>[463067067, fih, 7339944, 31403/p8v6, 363828, ...</td>\n",
       "      <td>3</td>\n",
       "      <td>923</td>\n",
       "    </tr>\n",
       "    <tr>\n",
       "      <th>0</th>\n",
       "      <td>641</td>\n",
       "      <td>CURRENT SMOKER</td>\n",
       "      <td>[social, history, :, lives, in, merca, ., drin...</td>\n",
       "      <td>0</td>\n",
       "      <td>700</td>\n",
       "    </tr>\n",
       "    <tr>\n",
       "      <th>11</th>\n",
       "      <td>403</td>\n",
       "      <td>UNKNOWN</td>\n",
       "      <td>[817406016, rwh, 3154334, 554691, 3547577, 7/6...</td>\n",
       "      <td>3</td>\n",
       "      <td>151</td>\n",
       "    </tr>\n",
       "    <tr>\n",
       "      <th>4</th>\n",
       "      <td>757</td>\n",
       "      <td>CURRENT SMOKER</td>\n",
       "      <td>[causes, hives, ., social, history, :, she, dr...</td>\n",
       "      <td>0</td>\n",
       "      <td>546</td>\n",
       "    </tr>\n",
       "    <tr>\n",
       "      <th>3</th>\n",
       "      <td>704</td>\n",
       "      <td>CURRENT SMOKER</td>\n",
       "      <td>[cm, ., allergies, :, shellfish, ,, which, cau...</td>\n",
       "      <td>0</td>\n",
       "      <td>1569</td>\n",
       "    </tr>\n",
       "    <tr>\n",
       "      <th>1</th>\n",
       "      <td>643</td>\n",
       "      <td>CURRENT SMOKER</td>\n",
       "      <td>[next-door, ., she, reports, having, no, sibli...</td>\n",
       "      <td>0</td>\n",
       "      <td>869</td>\n",
       "    </tr>\n",
       "  </tbody>\n",
       "</table>\n",
       "</div>"
      ],
      "text/plain": [
       "    Record ID  Smoking Status  \\\n",
       "5         590         UNKNOWN   \n",
       "0         641  CURRENT SMOKER   \n",
       "11        403         UNKNOWN   \n",
       "4         757  CURRENT SMOKER   \n",
       "3         704  CURRENT SMOKER   \n",
       "1         643  CURRENT SMOKER   \n",
       "\n",
       "                                                 Text  Smoking_enc  word_count  \n",
       "5   [463067067, fih, 7339944, 31403/p8v6, 363828, ...            3         923  \n",
       "0   [social, history, :, lives, in, merca, ., drin...            0         700  \n",
       "11  [817406016, rwh, 3154334, 554691, 3547577, 7/6...            3         151  \n",
       "4   [causes, hives, ., social, history, :, she, dr...            0         546  \n",
       "3   [cm, ., allergies, :, shellfish, ,, which, cau...            0        1569  \n",
       "1   [next-door, ., she, reports, having, no, sibli...            0         869  "
      ]
     },
     "execution_count": 176,
     "metadata": {},
     "output_type": "execute_result"
    }
   ],
   "source": [
    "data[\"Text\"] = tokenized_messages\n",
    "data.sample(6)"
   ]
  },
  {
   "cell_type": "code",
   "execution_count": 177,
   "metadata": {},
   "outputs": [],
   "source": [
    "# Select the features and the target\n",
    "X = data[\"Text\"]\n",
    "y = data[\"Smoking_enc\"]"
   ]
  },
  {
   "cell_type": "code",
   "execution_count": 178,
   "metadata": {},
   "outputs": [],
   "source": [
    "text_view = data[\"Text\"]"
   ]
  },
  {
   "cell_type": "code",
   "execution_count": 179,
   "metadata": {},
   "outputs": [],
   "source": [
    "X_train, X_test, y_train, y_test = train_test_split(\n",
    "    X, y, test_size=0.2, random_state=34, stratify=y\n",
    ")\n",
    "\n",
    "X_train = X_train.astype(str)\n",
    "X = X.astype(str)\n",
    "X_test = X_test.astype(str)"
   ]
  },
  {
   "cell_type": "code",
   "execution_count": 186,
   "metadata": {},
   "outputs": [
    {
     "name": "stdout",
     "output_type": "stream",
     "text": [
      "  (0, 588)\t0.12747579235279002\n",
      "  (0, 137)\t0.22611265748244022\n",
      "  (0, 497)\t0.22611265748244022\n",
      "  (0, 168)\t0.1941881768033229\n",
      "  (0, 914)\t0.13961291661184044\n",
      "  (0, 396)\t0.22611265748244022\n",
      "  (0, 195)\t0.22611265748244022\n",
      "  (0, 138)\t0.1941881768033229\n",
      "  (0, 251)\t0.22611265748244022\n",
      "  (0, 877)\t0.1941881768033229\n",
      "  (0, 622)\t0.11696213709947532\n",
      "  (0, 838)\t0.12747579235279002\n",
      "  (0, 253)\t0.15396808774953172\n",
      "  (0, 421)\t0.1715373972909578\n",
      "  (0, 274)\t0.1941881768033229\n",
      "  (0, 614)\t0.1941881768033229\n",
      "  (0, 907)\t0.22611265748244022\n",
      "  (0, 625)\t0.3430747945819156\n",
      "  (0, 850)\t0.22611265748244022\n",
      "  (0, 113)\t0.15396808774953172\n",
      "  (0, 310)\t0.1941881768033229\n",
      "  (0, 768)\t0.15396808774953172\n",
      "  (0, 415)\t0.11696213709947532\n",
      "  (0, 790)\t0.1715373972909578\n",
      "  (0, 416)\t0.22611265748244022\n",
      "  :\t:\n",
      "  (11, 467)\t0.18708854427342433\n",
      "  (11, 787)\t0.18708854427342433\n",
      "  (11, 775)\t0.18708854427342433\n",
      "  (11, 403)\t0.37417708854684867\n",
      "  (11, 727)\t0.37417708854684867\n",
      "  (11, 307)\t0.18708854427342433\n",
      "  (11, 560)\t0.18708854427342433\n",
      "  (11, 127)\t0.16067381506966466\n",
      "  (11, 285)\t0.16067381506966466\n",
      "  (11, 398)\t0.14193226644160617\n",
      "  (11, 613)\t0.14193226644160617\n",
      "  (11, 888)\t0.14193226644160617\n",
      "  (11, 401)\t0.14193226644160617\n",
      "  (11, 311)\t0.14193226644160617\n",
      "  (11, 595)\t0.12739519194700447\n",
      "  (11, 28)\t0.14193226644160617\n",
      "  (11, 853)\t0.09677598860978794\n",
      "  (11, 563)\t0.11551753723784647\n",
      "  (11, 923)\t0.14193226644160617\n",
      "  (11, 100)\t0.12739519194700447\n",
      "  (11, 622)\t0.09677598860978794\n",
      "  (11, 838)\t0.10547512327228704\n",
      "  (11, 113)\t0.12739519194700447\n",
      "  (11, 768)\t0.38218557584101337\n",
      "  (11, 415)\t0.09677598860978794\n"
     ]
    }
   ],
   "source": [
    "# Create the tf-idf vectorizer\n",
    "vectorizer = TfidfVectorizer(strip_accents=\"ascii\")\n",
    "\n",
    "\n",
    "# First fit the vectorizer with our training set\n",
    "tfidf_train = vectorizer.fit_transform(X_train)\n",
    "print(tfidf_train)\n",
    "\n",
    "# Now we can fit our test data with the same vectorizer\n",
    "tfidf_test = vectorizer.transform(X_test)"
   ]
  },
  {
   "cell_type": "code",
   "execution_count": 184,
   "metadata": {},
   "outputs": [
    {
     "name": "stdout",
     "output_type": "stream",
     "text": [
      "Accuracy: 0.75\n"
     ]
    }
   ],
   "source": [
    "# Initialize the Multinomial Naive Bayes classifier\n",
    "nb = MultinomialNB()\n",
    "\n",
    "# Fit the model\n",
    "nb.fit(tfidf_train, y_train)\n",
    "\n",
    "# Print the accuracy score\n",
    "print(\"Accuracy:\", nb.score(tfidf_test, y_test))"
   ]
  },
  {
   "cell_type": "code",
   "execution_count": 182,
   "metadata": {},
   "outputs": [],
   "source": [
    "# y_pred = nb.predict(tfidf_test)\n",
    "\n",
    "# # Print the Confusion Matrix\n",
    "# cm = confusion_matrix(y_test, y_pred)\n",
    "# print(\"Confusion Matrix\\n\")\n",
    "# print(cm)"
   ]
  },
  {
   "cell_type": "code",
   "execution_count": 183,
   "metadata": {},
   "outputs": [
    {
     "name": "stdout",
     "output_type": "stream",
     "text": [
      "['social', 'history', ':', 'lives', 'in', 'merca', '.', 'drinks', 'ginger', 'brandy', 'to', 'excess', ',', 'pipe', 'and', 'cigar', 'smoker', 'for', 'many', 'years', '.', 'physical', 'examination', ':', 'in', 'general', 'was', 'a', 'cachectic', ',', 'jaundiced', 'man', '.', 'bloodpressure', ':', '124/60']\n",
      "['next-door', '.', 'she', 'reports', 'having', 'no', 'siblings', '.', 'habits', ':', 'the', 'patient', 'has', 'a', '20', 'pack-year', 'smoking', 'history', '.', 'she', 'reports', 'having', 'just', 'quit', 'prior', 'to', 'admission', '.', 'she', 'denies', 'any', 'alcohol', 'or', 'street', 'drug', 'use']\n",
      "[')', '.', 'patient', 'denies', 'current', 'use', '.', 'patient', 'reports', 'occasional', 'alcohol', 'use', '.', 'has', 'been', 'smoking', 'approximately', '10', 'cigarettes', 'a', 'day', '.', 'claims', 'to', 'have', 'stopped', 'a', '``', 'few', 'weeks', 'ago', '``', '.', 'married', 'with', 'two']\n",
      "['cm', '.', 'allergies', ':', 'shellfish', ',', 'which', 'causes', 'nausea', 'and', 'vomiting', '.', 'social', 'history', ':', 'smoker', 'for', 'greater', 'than', '100', 'pack', 'years', '(', '3-1/2', 'packs', 'per', 'day', 'x', '35', 'years', ')', '.', 'no', 'ethanol', 'history', '.']\n",
      "['causes', 'hives', '.', 'social', 'history', ':', 'she', 'drinks', 'alcohol', '2-3', 'times', 'per', 'week', '.', '1-2', 'packs', 'per', 'day', '.', 'hospital', 'course', ':', 'the', 'patient', 'underwent', 'coronary', 'artery', 'bypass', 'grafting', 'x', '2', 'with', 'bilateral', 'mammary', 'arteries', 'on']\n",
      "['463067067', 'fih', '7339944', '31403/p8v6', '363828', '1/6/1994', '12:00:00', 'am', 'left', 'lung', 'atelectasis', 'with', 'chronic', 'obstructive', 'pulmonary', 'unsigned', 'dis', 'report', 'status', ':', 'unsigned', 'admission', 'date', ':', '01/06/94', 'discharge', 'date', ':', '02/17/94', 'principal', 'diagnosis', ':', 'left', 'lung', 'atelectasis', 'with', 'chronic', 'obstructive', 'pulmonary', 'disease', '.', 'associated', 'diagnosis', ':', 'bilateral', 'mastectomy', 'treated', 'with', 'radiation', 'therapy', 'and', 'chemotherapy', '.', 'principal', 'procedure', ':', '1/13/94', '-', 'flexible', 'bronchoscopy', 'with', 'biopsy', ',', 'mediastinoscopy', 'and', 'biopsy', ',', 'left', 'pleural', 'biopsy', 'with', 'excision', 'of', 'redundant', 'left', 'lower', 'lobe', 'emphysematous', 'bullae', '(', 'reduction', 'pneumoplasty', ')', '.', 'associated', 'procedures', ':', '2/14/94', '-', 'tracheostomy', '.', 'history', 'of', 'present', 'illness', ':', 'mrs.', 'scarv', 'is', 'a', '70', 'year', 'old', 'female', 'who', 'presented', 'with', 'a', 'two', 'and', 'a', 'half', 'year', 'history', 'of', 'dyspnea', 'and', 'progressively', 'worsening', 'exercise', 'tolerance', '.', 'her', 'work', 'up', 'included', 'a', 'cardiac', 'catheterization', 'which', 'showed', 'moderate', 'disease', 'and', 'pulmonary', 'function', 'tests', 'which', 'showed', 'an', 'fev1', 'of', '.93', 'and', 'a', 'dlco', 'of', '5.12', '.', 'her', 'x-rays', 'and', 'ct', 'scans', 'showed', 'progressive', 'infiltrate', 'in', 'the', 'left', 'lower', 'lobe', '.', 'she', 'underwent', 'bronchoscopy', 'on', '1/6/94', 'by', 'the', 'pulmonary', 'service', '.', 'she', 'was', 'admitted', 'post-bronchoscopy', 'because', 'of', 'dyspnea', 'and', 'pain', '.', 'past', 'medical', 'history', ':', '(', '1', ')', 'hysterectomy', '.', '(', '2', ')', 'colonic', 'polypectomy', '.', '(', '3', ')', 'bilateral', 'mastectomy', 'treated', 'with', 'radiation', 'therapy', 'and', 'chemotherapy', '.', 'medications', 'on', 'admission', ':', 'prednisone', '10', 'mg', 'q.d', '.', ',', 'atenolol', '25', 'mg', 'q.d', '.', ',', 'cytotec', '10', 'mg', 'q.d', '.', ',', 'zantac', '150', 'mg', 'b.i.d', '.', 'physical', 'examination', 'on', 'admission', ':', 'respirations', '22', ',', 'pulse', '96', ',', 'systolic', 'pressure', '100', ',', 'head', ',', 'eyes', ',', 'ears', ',', 'nose', ',', 'throat', 'examination', ':', 'sclerae', 'nonicteric', ',', 'perrl', ',', 'mucous', 'membranes', 'not', 'cyanotic', ',', 'neck', 'was', 'supple', ',', 'carotids', 'were', '2+', 'without', 'bruits', '.', 'the', 'heart', 'exam', 'revealed', 'a', 'normal', 'sl', 'and', 's2', 'regular', 'rate', 'and', 'rhythm', ',', 'no', 'murmurs', '.', 'chest', ':', 'decreased', 'breath', 'sounds', 'at', 'left', 'base', ',', 'crackles', 'at', 'both', 'bases', '.', 'the', 'abdomen', 'was', 'soft', 'and', 'non-tender', ',', 'no', 'masses', '.', 'extremities', ':', 'slight', 'cyanosis', 'of', 'fingers', ',', 'no', 'peripheral', 'edema', '.', 'admission', 'laboratory', 'data', ':', 'room', 'air', 'blood', 'gas', '54/26/7.48', '.', 'electrolytes', 'notable', 'for', 'potassium', '4.2', ',', 'bun', '28', ',', 'creatinine', '1.0', ',', 'hematocrit', '44.4', ',', 'white', 'blood', 'count', '8.6', ',', 'chest', 'x-ray', 'post', 'biopsy', ':', 'tiny', 'left', 'apical', 'pneumothorax', 'without', 'interval', 'change', '.', 'hospital', 'course', ':', 'early', 'in', 'through', 'her', 'hospitalization', 'her', 'electrocardiograms', 'remained', 'unchanged', 'and', 'she', 'ruled', 'out', 'for', 'myocardial', 'infarction', 'by', 'enzymes', '.', 'her', 'oxygen', 'saturations', 'remained', '88-93', 'percent', 'on', 'four', 'liters', 'of', 'nasal', 'prong', 'oxygen', '.', 'upon', 'review', 'of', 'her', 'computerized', 'tomography', 'scan', 'there', 'was', 'demonstration', 'of', 'progressive', 'collapse', 'of', 'her', 'left', 'lower', 'lobe', 'with', 'a', 'mass', 'like', 'effect', 'adjacent', 'to', 'the', 'atelectasis', '.', 'there', 'were', 'two', 'large', 'mediastinal', 'nodes', 'and', 'needle', 'biopsy', 'of', 'the', 'left', 'lobe', 'lesion', 'was', 'non-diagnostic', '.', 'she', 'was', 'referred', 'for', 'tissue', 'diagnosis', 'and', 'on', '1/13/94', 'was', 'brought', 'to', 'the', 'operating', 'room', '.', 'she', 'underwent', 'flexible', 'bronchoscopy', 'with', 'mediastinoscopy', '.', 'these', 'were', 'negative', 'for', 'tumor', 'and', 'a', 'mini', 'left', 'thoracotomy', 'was', 'performed', 'with', 'pleural', 'biopsy', '.', 'intraoperatively', 'there', 'was', 'a', 'large', 'emphysematous', 'portion', 'of', 'the', 'left', 'lung', 'which', 'prohibited', 'her', 'left', 'lower', 'lobe', 'to', 'fully', 'expand', '.', 'it', 'was', 'decided', 'to', 'perform', 'reduction', 'pneumoplasty', '.', 'this', 'proceeded', 'uneventfully', '.', 'she', 'was', 'extubated', 'and', 'stable', 'with', 'a', 'good', 'airway', 'and', 'good', 'oxygen', 'saturation', '.', 'however', ',', 'upon', 'transferring', 'her', 'from', 'the', 'operating', 'room', 'bed', 'to', 'the', 'stretcher', 'she', 'had', 'an', 'arrest', '.', 'this', 'appeared', 'to', 'be', 'respiratory', 'in', 'origin', '.', 'she', 'was', 'placed', 'back', 'on', 'the', 'operating', 'room', 'table', 'and', 'cardiopulmonary', 'resuscitation', 'was', 'begun', '.', 'pressors', 'were', 'given', 'and', 'she', 'quickly', 'responded', 'with', 'a', 'return', 'in', 'blood', 'pressure', 'and', 'heart', 'rate', '.', 'her', 'blood', 'pressure', 'remained', 'unstable', 'requiring', 'large', 'amounts', 'of', 'pressors', '.', 'x-rays', 'showed', 'no', 'pneumothorax', 'and', 'there', 'was', 'no', 'bleeding', 'from', 'her', 'chest', 'tubes', '.', 'she', 'was', 'therefore', 'transferred', 'up', 'to', 'the', 'respiratory', 'intensive', 'care', 'unit', '.', 'early', 'in', 'her', 'postoperative', 'course', 'her', 'pulmonary', 'artery', 'pressures', 'were', 'quite', 'high', ',', '70/30', '.', 'her', 'wedge', 'pressure', 'was', '20', 'and', 'there', 'were', 'no', 'electrocardiogram', 'changes', '.', 'she', 'ruled', 'out', 'for', 'myocardial', 'infarction', '.', 'she', 'developed', 'a', 'picture', 'consistent', 'with', 'right', 'heart', 'failure', 'with', 'pulmonary', 'hypertension', 'and', 'require', 'nitric', 'oxide', 'administration', '.', 'this', 'improved', 'her', 'right', 'heart', 'function', 'with', 'lower', 'pa', 'pressures', '.', 'she', 'developed', 'a', 'right', 'pleural', 'effusion', 'which', 'required', 'chest', 'tube', 'placement', 'to', 'remove', '1200', 'ccs', 'of', 'straw-colored', 'fluid', '.', 'she', 'remained', 'fully', 'ventilated', 'with', 'marginal', 'hemodynamic', 'status', 'on', 'levophed', ',', 'dobutamine', 'and', 'nitric', 'oxide', '.', 'ultimately', 'she', 'was', 'able', 'to', 'be', 'weaned', 'off', 'of', 'her', 'levophed', 'as', 'well', 'as', 'her', 'nitric', 'oxide', '.', 'however', ',', 'because', 'of', 'persistent', 'episodes', 'of', 'right', 'heart', 'failure', ',', 'dobutamine', 'was', 'started', '.', 'this', 'improved', 'her', 'cardiac', 'function', '.', 'she', 'failed', 'to', 'wean', 'from', 'the', 'ventilator', 'and', 'on', '2/14/94', 'was', 'brought', 'to', 'the', 'operating', 'room', 'for', 'a', 'tracheostomy', '.', 'she', 'had', 'a', 'complicated', 'course', 'from', 'an', 'infectious', 'disease', 'standpoint', 'with', 'multiple', 'positive', 'cultures', 'including', 'sputum', 'positive', 'for', 'pseudomonas', 'cepacia', ',', 'blood', 'cultures', 'which', 'were', 'positive', 'for', 'streptococcus', 'milleri', '.', 'the', 'right', 'pleural', 'fluid', 'was', 'also', 'positive', 'for', 'streptococcus', 'milleri', '.', 'she', 'had', 'citrobacter', 'from', 'her', 'sinuses', 'with', 'evidence', 'of', 'sinusitis', '.', 'she', 'was', 'treated', 'with', 'multiple', 'courses', 'of', 'broad', 'spectrum', 'antibiotics', '.', 'given', 'her', 'protracted', 'postoperative', 'course', 'the', 'family', 'uniformly', 'decided', 'to', 'withdraw', 'all', 'support', 'and', 'initiate', 'comfort', 'measures', 'only', '.', 'this', 'was', 'discussed', 'with', 'the', 'respiratory', 'intensive', 'care', 'unit', 'staff', '.', 'her', 'support', 'was', 'withdrawn', 'and', 'she', 'expired', 'on', '2/17/94', 'at', '9:00', 'p.m.', 'the', 'patient', \"'s\", 'family', 'was', 'notified', '.', 'rielleus', 'large', ',', 'm.d', '.', 'tr', ':', 'siw', '/', 'bmot', 'dd', ':', '02/17/94', 'td', ':', '02/19/94', '[', 'report_end', ']']\n",
      "['538617688', 'puomc', '7271129', '234750', '118602', '4/26/2000', '12:00:00', 'am', 'ed', 'discharge', 'summary', 'unsigned', 'dis', 'report', 'status', ':', 'unsigned', 'ed', 'discharge', 'notification', 'jedl', ',', 'shondlondnaale', 'mrn', ':', '7271129', 'age', ':', '83y', 'registration', 'date', ':', '04/26/2000', '03:19', 'pm', 'preliminary', 'report', 'this', 'is', 'to', 'notify', 'you', 'that', 'your', 'patient', ',', 'jedl', ',', 'shondlondnaale', 'arrived', 'in', 'the', 'emergency', 'department', 'at', 'ph', 'university', 'of', 'medical', 'center', 'on', '04/26/2000', '03:19', 'pm', '.', 'the', 'patient', 'presented', 'with', 'a', 'chief', 'complaint', 'of', 'abdominal', 'pain', ';', 'weak', '.', 'following', 'evaluation', 'and', 'treatment', ',', 'the', 'patient', \"'s\", 'disposition', 'at', 'the', 'end', 'of', 'the', 'visit', 'was', 'admitted', 'as', 'an', 'inpatient', 'to', 'ph', 'university', 'of', 'medical', 'center', '.', 'your', 'patient', 'was', 'admitted', 'under', 'the', 'care', 'of', 'shufffyfe', ',', 'lie', 'with', 'a', 'preliminary', 'diagnosis', 'of', 'delta', 'ms', 'mrsa', '.', 'if', 'you', 'need', 'additional', 'information', 'please', 'call', '639-873-2993', '.', 'pcp', 'name', ':', 'unknown', ',', 'physician', 'provider', 'number', ':', '17744', '[', 'report_end', ']']\n",
      "['.', 'allergies', ':', 'there', 'were', 'no', 'known', 'drug', 'allergies', '.', 'habits', ':', 'did', 'not', 'include', 'tobacco', 'or', 'alcohol', 'ingestion', '.', 'physical', 'examination', ':', 'on', 'physical', 'examination', 'on', 'admission', 'the', 'patient', 'was', 'somnolent', 'but', 'conversant', ',', 'oriented']\n",
      "['for', 'further', 'management', '.', 'past', 'medical', 'history', ':', 'negative', '.', 'habits', ':', 'she', 'does', 'not', 'smoke', ',', 'does', 'not', 'use', 'birth', 'control', 'pills', ',', 'does', 'not', 'use', 'drugs', '.', 'denies', 'any', 'abuse', 'of', 'alcohol', '.', 'family']\n",
      "[':', 'she', 'is', 'allergic', 'to', 'quinine', 'sulfate', '.', 'social', 'history', ':', 'the', 'patient', 'is', 'an', 'ex-smoker', '.', 'she', 'occasionally', 'drinks', 'alcohol', ',', 'and', 'works', 'as', 'a', 'baker', '.', 'she', 'has', 'a', 'supportive', 'partner', ',', 'who', 'works']\n",
      "['917989835', 'rwh', '5427551', '405831', '9660879', '01/09/2002', '12:00:00', 'am', 'ed', 'discharge', 'summary', 'unsigned', 'dis', 'report', 'status', ':', 'unsigned', 'ed', 'discharge', 'notification', '/', 'summary', 'sterpmoone', ',', 'ny', 'mrn', ':', '5427551', 'age', ':', '37y', 'registration', 'date', ':', '01/09/2002', '01:27', 'pm', 'provider', ':', 'nonok', 'ayrekempe', 'preliminary', 'report', 'pcp', 'notified', 'by', 'md', ':', 'left', 'message', 'with', 'answering', 'service', 'or', 'pcp', 'office', 'benefits', 'assigned', ':', 'y', 'discharge', 'date', '/', 'time', ':', '01/09/2002', '17:02', 'discharge', 'status', ':', 'discharged', 'condition', 'on', 'discharge', ':', 'stable', 'patient', 'states', 'complaint', ':', 'eval', 'standardized', 'discharge', 'instructions', ':', 'schedule', 'outpatient', 'psychiatry', 'appointment', 'necrestneysagiles', 'medical', 'center', '.', 'contact', 'bridc', 'bresca', 'denone', 'health', 'care', '(', '558-927-7217', ')', 'for', 'appointment', 'w/', 'therapist', '.', 'needs', 'to', 'speak', 'w/', 'pcp', 'in', 'order', 'to', 'switch', 'provider', 'diagnosis', ':', 'ptsd', 'discharge', 'medications', ':', '.5', 'risperdal', 'disposition', ',', 'follow', 'up', 'and', 'instructions', 'to', 'patient', ':', 'continue', 'w/', 'risperdal', 'per', 'new', 'psychiatrist', 'b', 'and', 'w', 'and', 'work', 'w/', 'therapist', 're', ':', 'historical', 'issues', '.', 'if', 'symptoms', 'continue', 'to', 'be', 'overwhelming', 'return', 'to', 'v', 'or', 'call', '1-903-263-5797', 'pcp', 'name', ':', 'shuffneg', ',', 'soa', 'w', 'provider', 'number', ':', '80157', 'this', 'report', 'was', 'created', 'by', 'ayrekempe', ',', 'nonok', '01/09/2002', '05:09', 'pm', '[', 'report_end', ']']\n",
      "['817406016', 'rwh', '3154334', '554691', '3547577', '7/6/2005', '12:00:00', 'am', 'ed', 'discharge', 'summary', 'unsigned', 'dis', 'report', 'status', ':', 'unsigned', 'ed', 'discharge', 'notification', 'jemskop', ',', 'cot', 'mrn', ':', '3154334', 'age', ':', '54y', 'registration', 'date', ':', '07/06/2005', '11:11', 'am', 'preliminary', 'report', 'this', 'is', 'to', 'notify', 'you', 'that', 'your', 'patient', ',', 'jemskop', ',', 'cot', 'arrived', 'in', 'the', 'emergency', 'department', 'at', 'ro', 'woodma', 'healthcare', 'on', '07/06/2005', '11:11', 'am', '.', 'the', 'patient', 'presented', 'with', 'a', 'chief', 'complaint', 'of', 'cp', '.', 'following', 'evaluation', 'and', 'treatment', ',', 'the', 'patient', \"'s\", 'disposition', 'at', 'the', 'end', 'of', 'the', 'visit', 'was', 'admitted', 'as', 'an', 'inpatient', 'to', 'ro', 'woodma', 'healthcare', '.', 'the', 'patient', \"'s\", 'preliminary', 'admitting', 'physician', 'is', 'kotedaizreke', ',', 'lila', 'and', 'the', 'preliminary', 'admitting', 'diagnosis', 'is', 'cp', '.', 'please', 'note', 'this', 'information', 'may', 'have', 'been', 'updated', 'on', 'the', 'inpatient', 'unit', '.', 'if', 'you', 'need', 'additional', 'information', 'please', 'call', '662-747-1199', '.', 'pcp', 'name', ':', 'titcheagnero', ',', 'to', 'provider', 'number', ':', '98076', '[', 'report_end', ']']\n",
      "['nkda', 'preop', 'hct', '36.4', '3/16/04', 'pod', '0', 's', '/', 'p', 'a', '/', 'p', 'repair', 'vag', 'pack', '/', 'foley', ',', 'ebl', 'minimal', 'uncomplicated', 'postoperative', 'course', '.', 'discharged', 'home', 'voiding', ',', 'tolerating', 'pos', ',', 'and', 'ambulating', '.', 'to']\n",
      "['895872725', 'elmvh', '99080881', '979718', '5/25/2002', '12:00:00', 'am', 'chest', 'pain', 'dis', 'admission', 'date', ':', '05/25/2002', 'report', 'status', ':', 'discharge', 'date', ':', '05/27/2002', '*', '*', '*', '*', '*', '*', 'discharge', 'orders', '*', '*', '*', '*', '*', '*', 'fyfewierst', ',', 'mier', '799-99-77-2', 'x12', 'room', ':', '33c-139', 'service', ':', 'car', 'discharge', 'patient', 'on', ':', '05/27/02', 'at', '04:00', 'pm', 'contingent', 'upon', 'not', 'applicable', 'will', 'd', '/', 'c', 'order', 'be', 'used', 'as', 'the', 'd', '/', 'c', 'summary', ':', 'yes', 'attending', ':', 'sagelyss', ',', 'tytumze', 'vacholle', ',', 'm.d', '.', 'disposition', ':', 'home', 'discharge', 'medications', ':', 'lopressor', '(', 'metoprolol', 'tartrate', ')', '12.5', 'mg', 'po', 'bid', 'food', '/', 'drug', 'interaction', 'instruction', 'take', 'consistently', 'with', 'meals', 'or', 'on', 'empty', 'stomach', '.', 'enalapril', 'maleate', '20', 'mg', 'po', 'bid', 'diet', ':', 'house', '/', 'low', 'chol', '/', 'low', 'sat', '.', 'fat', 'activity', '-', 'as', 'tolerated', 'return', 'to', 'work', ':', 'after', 'appt', 'with', 'local', 'physician', 'follow', 'up', 'appointment', '(', 's', ')', ':', 'dr.', 'hashimoto', ',', 'no', 'known', 'allergies', 'admit', 'diagnosis', ':', 'chest', 'pressure', ';', 'r', '/', 'o', 'mi', 'principal', 'discharge', 'diagnosis', ';', 'responsible', 'after', 'study', 'for', 'causing', 'admission', ')', 'chest', 'pain', 'other', 'diagnosis', ';', 'conditions', ',', 'infections', ',', 'complications', ',', 'affecting', 'treatment', '/', 'stay', 'chest', 'pain', ';', 'r', '/', 'o', 'mi', 'operations', 'and', 'procedures', ':', 'other', 'treatments', '/', 'procedures', '(', 'not', 'in', 'o.r', '.', ')', 'echocardiogram', 'mra', 'kidney', 'brief', 'resume', 'of', 'hospital', 'course', ':', '51', 'yo', 'f', 'h', '/', 'o', 'htn', ',', 'hyperchol', ',', 'p', '/', 'w', 'ss', 'chest', 'pressure', 'x', '3', 'days', '.', 'usoh', 'until', '3', 'day', 'pta', ',', 'dev', 'new', 'ss', 'chest', 'pressure', 'sometimes', 'rad', 'to', 'back', 'and', 'l', 'neck', '/', 'jaw', '.', 'not', 'assoc', 'with', 'exertion', '(', 'pt', 'has', 'active', 'lifestyle', ')', '.', 'pressure', 'lasted', 'for', 'hours', 'at', 'a', 'time', '.', 'variably', 'assoc', 'with', 'sob', ',', 'nausea', ',', 'palpitations', ',', 'tremulousness', ',', 'diaphoresis', '.', 'pt', 'has', 'htn', ',', 'measured', 'bp', 'home', '200/100', '.', 'reported', 'to', 'a', 'local', 'ed', 'was', 'found', 'to', 'have', 'bp', 'up', 'to', '200/100', '.', 'put', 'on', 'ntg', 'drip', 'without', 'relief', '.', 'pain', '2/10', 'persisted', ',', 'relieved', 'by', 'mso4', '.', 'at', 'elmvh', 'ed', ',', 'bp', '160/87', '.', 'now', 'adm', 'for', 'r', '/', 'o', 'mi', ',', 'eval', 'of', '?', 'demand', 'ischemia', ',', 'plus', 'w', '/', 'u', 'of', 'htn', 'urgency', '(', 'which', 'may', 'be', 'very', 'new', 'in', 'onset', ')', '.', 'pe', 't97.5', 'p59', 'bp', '(', 'l', ')', '180/86', '(', 'r', ')', '186/98', 'rr20', '98', '%', '2l', '.', 'exam', 'only', 'notable', 'for', 'ii', '/', 'vi', 'systolic', 'murmur', '.', 'labs', 'only', 'notable', 'for', 'ck', '54', '(', 'nl', ')', ',', 'trop', '0.03', ',', 'hct', '35.6', 'mcv', '79', '.', 'ekg', 'lbbb', 'nsr', '.', 'cxr', 'negative', '.', 'plan', 'romi', 'protocol', '.', 'cp', 'protocol', '.', 'captopril', 'and', 'nitropaste', 'to', 'control', 'pressure', '.', 'mso4', 'for', 'cp', '.', 'echo', ',', 'mra', '(', 'r', '/', 'o', 'dissection', ')', ',', 'urine', 'catecholamines', 'and', 'vma', '.', 'guaiac', 'all', 'stools', ',', 'check', 'iron', 'studies', '.', 'hospital', 'course', '1.', 'chest', 'pain', '-', 'pt', 'placed', 'on', 'captopril', '25', 'tid', ',', 'lopressor', '12.5', 'bid', 'and', 'ntg', 'paste', 'ss', ',', 'achieving', 'normal', 'bp', 'w', '/', 'in', '5', 'hrs', 'of', 'adm', 'to', 'floor', '.', 'her', 'cpress', 'dissappeared', 'over', 'the', 'same', 'timeframe', '.', '-', 'pt', 'r', \"'d\", '/', 'o', 'for', 'mi', 'by', 'cpk', '(', '54-', '>', '38-', '>', '33', ')', 'and', 'tpn', '(', '0.03', ')', ',', 'and', 'stable', 'ekg', '.', '2.', 'hypertension', '-', 'controlled', 'on', 'captopril', '+', 'lopressor', 'to', '110-130s', ';', 'ntg', 'paste', 'causing', '30', 'pt', 'drop', 'so', 'd', '/', 'c', \"'d\", '.', '-', 'mra', 'kidney', ':', 'no', 'stenosis', ';', 'no', 'parenchymal', 'lesions', '-', 'cxr', ':', 'no', 'obvious', 'mediastinal', 'widening', ',', 'but', 'no', 'comp', 'arison', 'film', ';', 'wnl', '-', 'echo', ':', 'prelim', ':', 'ef', '55-60', ',', '?', 'septal', 'flattening', ',', 'mild', 'tr', 'and', 'mr', ',', 'trace', 'effusion', '-24h', 'urine', 'study', ':', 'pending', '.', 'additional', 'comments', ':', 'discharge', 'condition', ':', 'satisfactory', 'to', 'do', '/', 'plan', ':', 'no', 'dictated', 'summary', 'entered', 'by', ':', 'meed', ',', 'cile', 'prilara', ',', 'm.d', '.', ',', 'ph.d.', '(', 'rg185', ')', '05/27/02', '05:35', 'pm', '*', '*', '*', '*', '*', '*', 'end', 'of', 'discharge', 'orders', '*', '*', '*', '*', '*', '*', '[', 'report_end', ']']\n",
      "['305757070', 'elmvh', '74973293', '2973118', '11/27/2003', '12:00:00', 'am', 'dehydration', 'dis', 'admission', 'date', ':', '11/27/2003', 'report', 'status', ':', 'discharge', 'date', ':', '11/28/2003', '*', '*', '*', '*', '*', '*', 'discharge', 'orders', '*', '*', '*', '*', '*', '*', 'meedbelb', ',', 'lind', 'e', '869-08-73-5', 'b09', 'room', ':', '23q-929', 'service', ':', 'car', 'discharge', 'patient', 'on', ':', '11/28/03', 'at', '02:00', 'pm', 'contingent', 'upon', 'not', 'applicable', 'will', 'd', '/', 'c', 'order', 'be', 'used', 'as', 'the', 'd', '/', 'c', 'summary', ':', 'yes', 'attending', ':', 'koteskismanhout', ',', 'ayan', ',', 'm.d', '.', 'code', 'status', ':', 'full', 'code', 'disposition', ':', 'home', 'discharge', 'medications', ':', 'colace', '(', 'docusate', 'sodium', ')', '100', 'mg', 'po', 'bid', 'fentanyl', '(', 'patch', ')', '25', 'mcg', '/', 'hr', 'tp', 'q72h', 'alert', 'overridden', ':', 'override', 'added', 'on', '11/27/03', 'by', 'crampkote', ',', 'line', ',', 'm.d', '.', 'possible', 'allergy', '(', 'or', 'sensitivity', ')', 'to', 'narcotics', ',', 'phenylpiperidine', 'potentially', 'serious', 'interaction', ':', 'citalopram', 'hydrobromide', 'and', 'fentanyl', 'citrate', 'reason', 'for', 'override', ':', 'takes', 'at', 'home', 'w', '/', 'o', 'problem', 'lasix', '(', 'furosemide', ')', '40', 'mg', 'po', 'monday', ',', 'wednesday', ',', 'friday', 'zestril', '(', 'lisinopril', ')', '20', 'mg', 'po', 'qd', 'hold', 'if', ':', 'sbp', '<', '100', 'override', 'notice', ':', 'override', 'added', 'on', '11/27/03', 'by', 'crampkote', ',', 'line', ',', 'm.d', '.', 'on', 'order', 'for', 'kcl', 'immediate', 'release', 'po', '(', 'ref', '#', '16679329', ')', 'potentially', 'serious', 'interaction', ':', 'lisinopril', 'and', 'potassium', 'chloride', 'reason', 'for', 'override', ':', 'aware', 'toprol', 'xl', '(', 'metoprolol', '(', 'sust', '.', 'rel', '.', ')', ')', '25', 'mg', 'po', 'qd', 'hold', 'if', ':', 'hr', '<', '55', 'food', '/', 'drug', 'interaction', 'instruction', 'take', 'consistently', 'with', 'meals', 'or', 'on', 'empty', 'stomach', '.', 'number', 'of', 'doses', 'required', '(', 'approximate', ')', ':', '4', 'imdur', '(', 'isosorbide', 'mononit', '.', '(', 'sr', ')', ')', '30', 'mg', 'po', 'qd', 'hold', 'if', ':', 'sbp', '<', '100', 'food', '/', 'drug', 'interaction', 'instruction', 'give', 'on', 'an', 'empty', 'stomach', '(', 'give', '1hr', 'before', 'or', '2hr', 'after', 'food', ')', 'plavix', '(', 'clopidogrel', ')', '75', 'mg', 'po', 'qd', 'celexa', '(', 'citalopram', ')', '20', 'mg', 'po', 'qd', 'override', 'notice', ':', 'override', 'added', 'on', '11/27/03', 'by', 'crampkote', ',', 'line', ',', 'm.d', '.', 'on', 'order', 'for', 'fentanyl', '(', 'patch', ')', 'tp', '(', 'ref', '#', '39386653', ')', 'potentially', 'serious', 'interaction', ':', 'citalopram', 'hydrobromide', 'and', 'fentanyl', 'citrate', 'reason', 'for', 'override', ':', 'takes', 'at', 'home', 'w', '/', 'o', 'problem', 'diet', ':', 'house', '/', 'low', 'chol', '/', 'low', 'sat', '.', 'fat', 'activity', ':', 'walking', 'with', 'assistance', 'follow', 'up', 'appointment', '(', 's', ')', ':', 'dr', 'va', 'lardesprableyl', '1-2', 'wks', ',', 'allergy', ':', 'percocet', 'admit', 'diagnosis', ':', 'presyncope', 'principal', 'discharge', 'diagnosis', ';', 'responsible', 'after', 'study', 'for', 'causing', 'admission', ')', 'dehydration', 'other', 'diagnosis', ';', 'conditions', ',', 'infections', ',', 'complications', ',', 'affecting', 'treatment', '/', 'stay', 'cad', ',', 's', '/', 'p', 'l', 'mastectomy', 'breastca', ',', 's', '/', 'p', 'excision', 'malig', '.', 'melanoma', ',', 'bladder', 'ca', ',', 's', '/', 'p', 'partial', 'gastrectomy', ',', 'hx', 'gib', 'on', 'asa', ',', 's', '/', 'p', 'ptca', 'of', 'lcx', ',', '80', '%', 'sten', 'of', 'lad', 'operations', 'and', 'procedures', ':', 'other', 'treatments', '/', 'procedures', '(', 'not', 'in', 'o.r', '.', ')', '-', 'brief', 'resume', 'of', 'hospital', 'course', ':', '83m', 'w/', 'signif', 'oncologic', 'hx', ',', 'currently', 'stable', ',', 'and', 'recent', 'lad', 'stent', '(', 'cv-stable', 'since', '08/18', ')', 'transferred', 'from', 'l', 'w/', 'report', 'of', 'presyncope', 'and', '?', 'afib', '.', 'by', 'family', \"'s\", 'hx', ',', 'pt', 'is', 'high-functioning', 'at', 'baseline', '.', 'developed', 'uri', 'sx', '1', 'wk', 'ago', ',', 'likely', 'viral', ',', 'w/', 'increasing', 'confusion', 'over', 'last', 'few', 'days', '.', 'seen', 'at', 'l', 'this', 'am', 'for', 'uri', ',', 'found', 'to', 'have', 'difficulty', 'standing', ',', 'noted', 'to', 'have', 'cardiac', 'ectopy', '.', 'no', 'c', '/', 'o', 'cp', ',', 'sob', ',', 'or', 'anginal', 'equivalents', '.', 'ekg', 'o', '/', 'w', 'unchanged', ',', 'w/', 'negative', 'enz', '-', 'low', 'suspicion', 'for', 'acute', 'cardiac', 'process', '.', 'pmh', ':', 'cad', '3vd', ',', 's', '/', 'p', 'mult', 'pcis', ';', 'chf', '.', 'breast', 'ca', 's', '/', 'p', 'l', 'mastectomy', ';', 'melanoma', ';', 'bladder', 'ca', ';', 'bph', 's', '/', 'p', 'turp', ';', 'gi', 'b', 'on', 'asa', ';', 's', '/', 'p', 'partial', 'gastrectomy', ';', 'hoh', '.', 'all', ':', 'nkda', '(', 'percocet-', '>', 'agitation', ')', '.', 'on', 'exam', ',', 'found', 'to', 'be', 'delerious', 'and', 'moderately', 'dehydrated', '.', 'alert', 'and', 'oriented', 'x', '3', ';', 'appears', 'neurologically', 'intact', '.', '98.5', ',', 'bp110/60', 'p65', 'supine', ';', '100/55', 'p80', 'sitting', ',', 'r20', ',', '95', '%', 'ra', 'op', 'clear', '.', 'jvp', '5', 'cm', '.', 'ctab', '.', 'rrr', ',', 'no', 'mrg', '.', 'soft', ',', 'nt', '/', 'nd', ',', 'no', 'hsm', '.', 'neuro', ':', 'poor', 'attention', ',', 'cranial', 'nerves', 'intact', ',', 'strength', '/', 'sens', 'intact', ',', 'cerebell', 'intact', ',', 'poor', 'balance', '.', 'ct', 'head', 'from', 'l', 'negative', '.', 'cxr', 'w/', 'no', 'acute', 'process', '.', 'ekg', ':', 'nsr', ',', '1d', 'avb', ',', 'mult', 'pacs', ',', 'old', 'lbbb', ',', 'no', 'si', 'acute', 'ischemia', '.', 'echo', '08/18', ':', '35-40', '%', ',', 'mod', 'global', 'hk', ',', 'mod', 'mr.', 'na137', ',', 'k4.4', ',', 'cr', '0.9', ',', 'glu92', ';', 'wbc7.8', ',', 'hct', '40', ',', 'plt150', '.', 'a', '/', 'p', ':', 'likely', 'dehydration', 'w/', 'mild', 'delirium', 'in', 'an', 'elederly', 'man', 'in', 'the', 'setting', 'of', 'recent', 'uri', '.', 'reportedly', 'has', 'had', 'increased', 'vicodin', 'use', 'for', 'back', 'pain', ',', 'which', 'may', 'also', 'contribute', 'to', 'ms', 'change', '.', 'cv', ':', 'tele', '.', 'cardiac', 'enz', 'negative', '.', 'gentle', 'ivf', '.', 'hold', 'asa', 'due', 'to', 'hx', 'massive', 'gib', 'on', 'asa', 'in', 'the', 'past', ';', 'currently', 'on', 'plavix', '.', 'lasix', 'decreased', 'to', '40', 'mg', 'po', 'tid', '.', 'by', '11/28', ',', 'rehydrated', ',', 'felt', 'better', '.', 'id', ':', 'pan-cx', '.', 'no', 'need', 'for', 'abx', 'now', '.', 'rapid', 'viral', 'panel', '.', 'remained', 'afebrile', '.', 'disp', ':', 'gait', 'much', 'improved', 'by', '11/28', ';', 'pt', 'felt', 'pt', 'safe', 'to', 'go', 'home', 'w/', 'monitoring', '-', 'son', 'will', 'arrange', 'for', 'home', 'aid', 'to', 'be', 'w/', 'pt', 'for', 'several', 'days', '.', 'rehab', 'screening', 'was', 'offered', 'but', 'pt', 'preferred', 'to', 'go', 'home', '.', 'additional', 'comments', ':', 'discharge', 'condition', ':', 'satisfactory', 'to', 'do', '/', 'plan', ':', 'no', 'dictated', 'summary', 'entered', 'by', ':', 'crampkote', ',', 'line', ',', 'm.d', '.', '(', 'jt0', ')', '11/28/03', '02:25', 'pm', '*', '*', '*', '*', '*', '*', 'end', 'of', 'discharge', 'orders', '*', '*', '*', '*', '*', '*', '[', 'report_end', ']']\n",
      "['two', 'blocks', '.', 'he', 'has', 'a', 'known', 'tuberculosis', 'and', 'asbestosis', 'exposure', '.', 'his', 'last', 'negative', 'ppd', 'was', 'greater', 'than', 'one', 'year', 'ago', '.', 'past', 'medical', 'history', ':', 'significant', 'for', 'chronic', 'obstructive', 'pulmonary', 'disease', ',', 'hypertension', ',']\n"
     ]
    }
   ],
   "source": [
    "import re\n",
    "\n",
    "clean_text = []\n",
    "for token in tokenized_messages:\n",
    "    print(token)\n",
    "#         pattern = r\"(\\S+\\s){0,10}\\S*(smok|tobacco|cigar|pack|ppd)\\S*(\\s\\S+){0,10}\"\n",
    "#         match = re.search(pattern, token, re.IGNORECASE)\n",
    "\n",
    "\n",
    "#         if match:\n",
    "#             # Extract the matched part\n",
    "#             matched_text = match.group(0)\n",
    "#             clean_text.append(matched_text)\n",
    "\n",
    "# print(clean_text)"
   ]
  }
 ],
 "metadata": {
  "kernelspec": {
   "display_name": "base",
   "language": "python",
   "name": "python3"
  },
  "language_info": {
   "codemirror_mode": {
    "name": "ipython",
    "version": 3
   },
   "file_extension": ".py",
   "mimetype": "text/x-python",
   "name": "python",
   "nbconvert_exporter": "python",
   "pygments_lexer": "ipython3",
   "version": "3.11.5"
  }
 },
 "nbformat": 4,
 "nbformat_minor": 2
}
